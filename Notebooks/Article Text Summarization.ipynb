{
 "cells": [
  {
   "cell_type": "markdown",
   "metadata": {},
   "source": [
    "# Article Text Summarization"
   ]
  },
  {
   "cell_type": "markdown",
   "metadata": {},
   "source": [
    "## NLTK Approach"
   ]
  },
  {
   "cell_type": "code",
   "execution_count": 1,
   "metadata": {
    "collapsed": true
   },
   "outputs": [],
   "source": [
    "import nltk\n",
    "from nltk.corpus import stopwords\n",
    "\n",
    "stop_words = stopwords.words('english')\n",
    "\n",
    "# The low end of shared words to consider\n",
    "LOWER_BOUND = .20\n",
    "\n",
    "# The high end, since anything above this is probably SEO garbage or a\n",
    "# duplicate sentence\n",
    "UPPER_BOUND = .90\n",
    "\n",
    "def is_unimportant(word):\n",
    "    \"\"\"Decides if a word is ok to toss out for the sentence comparisons\"\"\"\n",
    "    return word in ['.', '!', ',', ] or '\\'' in word or word in stop_words\n",
    "\n",
    "def only_important(sent):\n",
    "    \"\"\"Just a little wrapper to filter on is_unimportant\"\"\"\n",
    "    return filter(lambda w: not is_unimportant(w), sent)\n",
    "\n",
    "def compare_sents(sent1, sent2):\n",
    "    \"\"\"Compare two word-tokenized sentences for shared words\"\"\"\n",
    "    if not len(sent1) or not len(sent2):\n",
    "        return 0\n",
    "    return len(set(only_important(sent1)) & set(only_important(sent2))) / ((len(sent1) + len(sent2)) / 2.0)\n",
    "\n",
    "def compare_sents_bounded(sent1, sent2):\n",
    "    \"\"\"If the result of compare_sents is not between LOWER_BOUND and\n",
    "    UPPER_BOUND, it returns 0 instead, so outliers don't mess with the sum\"\"\"\n",
    "    cmpd = compare_sents(sent1, sent2)\n",
    "    if LOWER_BOUND < cmpd < UPPER_BOUND:\n",
    "        return cmpd\n",
    "    else:\n",
    "        return 0\n",
    "\n",
    "def compute_score(sent, sents):\n",
    "    \"\"\"Computes the average score of sent vs the other sentences (the result of\n",
    "    sent vs itself isn't counted because it's 1, and that's above\n",
    "    UPPER_BOUND)\"\"\"\n",
    "    if not len(sent):\n",
    "        return 0\n",
    "    return sum(compare_sents_bounded(sent, sent1) for sent1 in sents) / float(len(sents))\n",
    "\n",
    "def summarize(block):\n",
    "    \"\"\"Return the sentence that best summarizes block\"\"\"\n",
    "    if not block:\n",
    "        return None\n",
    "    sents = nltk.sent_tokenize(block)\n",
    "    word_sents = list(map(nltk.word_tokenize, sents))\n",
    "    d = dict((compute_score(word_sent, word_sents), sent)\n",
    "             for sent, word_sent in zip(sents, word_sents))\n",
    "    return d[max(d.keys())]"
   ]
  },
  {
   "cell_type": "code",
   "execution_count": 2,
   "metadata": {
    "collapsed": false
   },
   "outputs": [
    {
     "data": {
      "text/plain": [
       "'However, taking supplemental vitamin C 500 mg daily without antihypertensives does not seem to reduce systolic or diastolic blood pressure .'"
      ]
     },
     "execution_count": 2,
     "metadata": {},
     "output_type": "execute_result"
    }
   ],
   "source": [
    "article = \"\"\"\n",
    "Taking vitamin C orally along with conventional antihypertensive medications appears to modestly decrease systolic blood pressure, but the effects on diastolic pressure are mixed . In patients with type 2 diabetes, taking vitamin C 500 mg daily for 4 weeks, in addition to antihypertensives, seems to reduce arterial blood pressure and decrease arterial stiffness . However, taking supplemental vitamin C 500 mg daily without antihypertensives does not seem to reduce systolic or diastolic blood pressure . Dietary restriction of vitamin C is associated with increases in both diastolic and systolic blood pressure (10354\n",
    "\"\"\"\n",
    "summarize(article)"
   ]
  },
  {
   "cell_type": "markdown",
   "metadata": {},
   "source": [
    "## ML Approach"
   ]
  },
  {
   "cell_type": "markdown",
   "metadata": {},
   "source": [
    "### Getting the Text ready"
   ]
  },
  {
   "cell_type": "code",
   "execution_count": 3,
   "metadata": {
    "collapsed": true
   },
   "outputs": [],
   "source": [
    "from neo4j.v1 import GraphDatabase, basic_auth\n",
    "from collections import Counter\n",
    "\n",
    "driver = GraphDatabase.driver(\"bolt://localhost:7687\", auth=basic_auth(\"neo4j\", \"naturalmed\"))\n",
    "session = driver.session()"
   ]
  },
  {
   "cell_type": "code",
   "execution_count": 42,
   "metadata": {
    "collapsed": false
   },
   "outputs": [],
   "source": [
    "query = session.run(\"MATCH (m:Medicine)-[r1]->(n:DiseaseInteraction)-[r2]->(d:Disease) \\\n",
    "                     RETURN m.name, n.text, d.id\")\n",
    "\n",
    "data = [(r['m.name'], r['n.text'], r['d.id'], summarize(r['n.text'])) for r in query]\n",
    "\n",
    "def tkz(s):\n",
    "    return \" \".join(nltk.tokenize.word_tokenize(s))\n",
    "\n",
    "summaries, texts, dumb = zip(*[(tkz(e[3]), tkz(e[1]), None) for e in data])"
   ]
  },
  {
   "cell_type": "code",
   "execution_count": 46,
   "metadata": {
    "collapsed": false
   },
   "outputs": [
    {
     "data": {
      "text/plain": [
       "'Constituents isolated from Acacia rigidula are thought to have stimulant effects . Additionally , dietary supplements listing Acacia rigidula as an ingredient have been shown to contain the stimulant beta-methylphenethylamine ( BMPEA ) and greater amounts of other stimulant compounds than would normally be found in plant parts . BMPEA has been shown to increase blood pressure and heart rate in animals . Theoretically , taking Acacia rigidula supplements might exacerbate high blood pressure .'"
      ]
     },
     "execution_count": 46,
     "metadata": {},
     "output_type": "execute_result"
    }
   ],
   "source": [
    "texts[1]"
   ]
  },
  {
   "cell_type": "code",
   "execution_count": 45,
   "metadata": {
    "collapsed": false
   },
   "outputs": [
    {
     "data": {
      "text/plain": [
       "'Theoretically , taking Acacia rigidula supplements might exacerbate high blood pressure .'"
      ]
     },
     "execution_count": 45,
     "metadata": {},
     "output_type": "execute_result"
    }
   ],
   "source": [
    "summaries[1]"
   ]
  },
  {
   "cell_type": "code",
   "execution_count": 48,
   "metadata": {
    "collapsed": false
   },
   "outputs": [
    {
     "data": {
      "text/plain": [
       "2336"
      ]
     },
     "execution_count": 48,
     "metadata": {},
     "output_type": "execute_result"
    }
   ],
   "source": [
    "len(texts)"
   ]
  },
  {
   "cell_type": "code",
   "execution_count": 47,
   "metadata": {
    "collapsed": false
   },
   "outputs": [
    {
     "data": {
      "text/plain": [
       "True"
      ]
     },
     "execution_count": 47,
     "metadata": {},
     "output_type": "execute_result"
    }
   ],
   "source": [
    "len(texts) == len(summaries) == len(dumb)"
   ]
  },
  {
   "cell_type": "code",
   "execution_count": 49,
   "metadata": {
    "collapsed": true
   },
   "outputs": [],
   "source": [
    "tokenized_data = (summaries, texts, dumb)"
   ]
  },
  {
   "cell_type": "markdown",
   "metadata": {},
   "source": [
    "### Dumping the objects to the disk"
   ]
  },
  {
   "cell_type": "code",
   "execution_count": 50,
   "metadata": {
    "collapsed": false
   },
   "outputs": [],
   "source": [
    "import pickle\n",
    "\n",
    "FN = 'natmed_tokens'\n",
    "\n",
    "with open('./../Dumps/%s.data.pkl'%FN,'wb') as fp:\n",
    "    pickle.dump(tokenized_data,fp)"
   ]
  },
  {
   "cell_type": "markdown",
   "metadata": {},
   "source": [
    "### Starting Building the Model"
   ]
  },
  {
   "cell_type": "code",
   "execution_count": 44,
   "metadata": {
    "collapsed": true
   },
   "outputs": [],
   "source": [
    "#session.close()"
   ]
  }
 ],
 "metadata": {
  "kernelspec": {
   "display_name": "Python 3",
   "language": "python",
   "name": "python3"
  },
  "language_info": {
   "codemirror_mode": {
    "name": "ipython",
    "version": 3
   },
   "file_extension": ".py",
   "mimetype": "text/x-python",
   "name": "python",
   "nbconvert_exporter": "python",
   "pygments_lexer": "ipython3",
   "version": "3.6.0"
  }
 },
 "nbformat": 4,
 "nbformat_minor": 2
}
