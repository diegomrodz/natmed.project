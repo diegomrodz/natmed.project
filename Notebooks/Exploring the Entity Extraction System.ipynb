{
 "cells": [
  {
   "cell_type": "markdown",
   "metadata": {},
   "source": [
    "# Exploring the Entity Extraction System"
   ]
  },
  {
   "cell_type": "code",
   "execution_count": 251,
   "metadata": {
    "collapsed": false
   },
   "outputs": [],
   "source": [
    "import pandas as pd\n",
    "import numpy as np\n",
    "import pickle\n",
    "import re\n",
    "import nltk\n",
    "import difflib\n",
    "from neo4j.v1 import GraphDatabase, basic_auth\n",
    "\n",
    "# Neo4j driver and client\n",
    "driver = GraphDatabase.driver(\"bolt://localhost:7687\", auth=basic_auth(\"neo4j\", \"naturalmed\"))\n",
    "session = driver.session()"
   ]
  },
  {
   "cell_type": "code",
   "execution_count": 225,
   "metadata": {
    "collapsed": false
   },
   "outputs": [],
   "source": [
    "ENTITY_LIST = [\n",
    "    'Medicine',\n",
    "    'Disease',\n",
    "    'Food',\n",
    "    'Context',\n",
    "    'HerbSuplement',\n",
    "    'LaboratoryTest',\n",
    "    'Pharmacokinetics'\n",
    "]\n",
    "\n",
    "QUESTIONS = [\n",
    "    'What is ([A-Z].*?)\\?'\n",
    "]"
   ]
  },
  {
   "cell_type": "code",
   "execution_count": 264,
   "metadata": {
    "collapsed": false
   },
   "outputs": [],
   "source": [
    "entities = []\n",
    "types = []\n",
    "\n",
    "for entity in ENTITY_LIST:\n",
    "    prop = 'name' if entity == 'Medicine' else 'id' \n",
    "    res = session.run(\"MATCH (n:%s) RETURN n.%s;\" % (entity, prop))\n",
    "    \n",
    "    for e in res:\n",
    "        entities.append(e.values()[0])\n",
    "        types.append(entity)\n",
    "\n",
    "dframe = pd.DataFrame({\n",
    "    'entity': pd.Series(entities),\n",
    "    'type': pd.Series(types)\n",
    "})\n",
    "\n",
    "with open(\"../Dumps/entities.pickle\", \"wb\") as fp:\n",
    "    pickle.dump(dframe, fp)"
   ]
  },
  {
   "cell_type": "code",
   "execution_count": 261,
   "metadata": {
    "collapsed": false
   },
   "outputs": [
    {
     "data": {
      "text/html": [
       "<div>\n",
       "<table border=\"1\" class=\"dataframe\">\n",
       "  <thead>\n",
       "    <tr style=\"text-align: right;\">\n",
       "      <th></th>\n",
       "      <th>entity</th>\n",
       "      <th>type</th>\n",
       "    </tr>\n",
       "  </thead>\n",
       "  <tbody>\n",
       "    <tr>\n",
       "      <th>0</th>\n",
       "      <td>Abscess Root</td>\n",
       "      <td>Medicine</td>\n",
       "    </tr>\n",
       "    <tr>\n",
       "      <th>1</th>\n",
       "      <td>Abuta</td>\n",
       "      <td>Medicine</td>\n",
       "    </tr>\n",
       "    <tr>\n",
       "      <th>2</th>\n",
       "      <td>Acacia</td>\n",
       "      <td>Medicine</td>\n",
       "    </tr>\n",
       "    <tr>\n",
       "      <th>3</th>\n",
       "      <td>Acacia Rigidula</td>\n",
       "      <td>Medicine</td>\n",
       "    </tr>\n",
       "    <tr>\n",
       "      <th>4</th>\n",
       "      <td>Acai</td>\n",
       "      <td>Medicine</td>\n",
       "    </tr>\n",
       "  </tbody>\n",
       "</table>\n",
       "</div>"
      ],
      "text/plain": [
       "            entity      type\n",
       "0     Abscess Root  Medicine\n",
       "1            Abuta  Medicine\n",
       "2           Acacia  Medicine\n",
       "3  Acacia Rigidula  Medicine\n",
       "4             Acai  Medicine"
      ]
     },
     "execution_count": 261,
     "metadata": {},
     "output_type": "execute_result"
    }
   ],
   "source": [
    "dframe.head()"
   ]
  },
  {
   "cell_type": "code",
   "execution_count": 262,
   "metadata": {
    "collapsed": false
   },
   "outputs": [
    {
     "data": {
      "text/plain": [
       "entity    3364\n",
       "type      3364\n",
       "dtype: int64"
      ]
     },
     "execution_count": 262,
     "metadata": {},
     "output_type": "execute_result"
    }
   ],
   "source": [
    "dframe.count()"
   ]
  },
  {
   "cell_type": "code",
   "execution_count": 155,
   "metadata": {
    "collapsed": true
   },
   "outputs": [],
   "source": [
    "def comp_str(arr, string):\n",
    "    \"\"\" Compare the matching from 0 to 1 between two strings\n",
    "    \"\"\"\n",
    "    sm = difflib.SequenceMatcher(None)\n",
    "    \n",
    "    for e in arr:\n",
    "        sm.set_seq1(str(e))\n",
    "        sm.set_seq2(string)\n",
    "        \n",
    "        yield sm.ratio()"
   ]
  },
  {
   "cell_type": "code",
   "execution_count": 169,
   "metadata": {
    "collapsed": true
   },
   "outputs": [],
   "source": [
    "test_dframe = dframe"
   ]
  },
  {
   "cell_type": "code",
   "execution_count": 171,
   "metadata": {
    "collapsed": true
   },
   "outputs": [],
   "source": [
    "test_dframe['confidence'] = list(comp_str(test_dframe['entity'], \"Açai\"))"
   ]
  },
  {
   "cell_type": "code",
   "execution_count": 178,
   "metadata": {
    "collapsed": false
   },
   "outputs": [
    {
     "data": {
      "text/html": [
       "<div>\n",
       "<table border=\"1\" class=\"dataframe\">\n",
       "  <thead>\n",
       "    <tr style=\"text-align: right;\">\n",
       "      <th></th>\n",
       "      <th>entity</th>\n",
       "      <th>type</th>\n",
       "      <th>confidence</th>\n",
       "    </tr>\n",
       "  </thead>\n",
       "  <tbody>\n",
       "    <tr>\n",
       "      <th>4</th>\n",
       "      <td>Acai</td>\n",
       "      <td>Medicine</td>\n",
       "      <td>0.750000</td>\n",
       "    </tr>\n",
       "    <tr>\n",
       "      <th>2</th>\n",
       "      <td>Acacia</td>\n",
       "      <td>Medicine</td>\n",
       "      <td>0.600000</td>\n",
       "    </tr>\n",
       "    <tr>\n",
       "      <th>1</th>\n",
       "      <td>Abuta</td>\n",
       "      <td>Medicine</td>\n",
       "      <td>0.444444</td>\n",
       "    </tr>\n",
       "    <tr>\n",
       "      <th>13</th>\n",
       "      <td>Caffeine</td>\n",
       "      <td>Food</td>\n",
       "      <td>0.333333</td>\n",
       "    </tr>\n",
       "    <tr>\n",
       "      <th>3</th>\n",
       "      <td>Acacia Rigidula</td>\n",
       "      <td>Medicine</td>\n",
       "      <td>0.315789</td>\n",
       "    </tr>\n",
       "  </tbody>\n",
       "</table>\n",
       "</div>"
      ],
      "text/plain": [
       "             entity      type  confidence\n",
       "4              Acai  Medicine    0.750000\n",
       "2            Acacia  Medicine    0.600000\n",
       "1             Abuta  Medicine    0.444444\n",
       "13         Caffeine      Food    0.333333\n",
       "3   Acacia Rigidula  Medicine    0.315789"
      ]
     },
     "execution_count": 178,
     "metadata": {},
     "output_type": "execute_result"
    }
   ],
   "source": [
    "test_dframe.sort_values(by='confidence', ascending=False).head(n=5)"
   ]
  },
  {
   "cell_type": "code",
   "execution_count": 233,
   "metadata": {
    "collapsed": true
   },
   "outputs": [],
   "source": [
    "def compile_question(string):\n",
    "    \"\"\" Compiles a question and returns a list of the entities matched on it.\n",
    "    \"\"\"\n",
    "    for question in QUESTIONS:\n",
    "        matching = re.match(question, string) \n",
    "        if matching:\n",
    "            return list(matching.groups())\n",
    "    return None"
   ]
  },
  {
   "cell_type": "code",
   "execution_count": 234,
   "metadata": {
    "collapsed": false
   },
   "outputs": [
    {
     "data": {
      "text/plain": [
       "['Açai']"
      ]
     },
     "execution_count": 234,
     "metadata": {},
     "output_type": "execute_result"
    }
   ],
   "source": [
    "compile_question(\"What is Açai?\")"
   ]
  },
  {
   "cell_type": "code",
   "execution_count": 246,
   "metadata": {
    "collapsed": true
   },
   "outputs": [],
   "source": [
    "def score_entity(dframe, entity):\n",
    "    \"\"\" Scores the entity in relation to the entities table\n",
    "    \"\"\"\n",
    "    dframe['confidence'] = list(comp_str(dframe['entity'], entity))\n",
    "    return dframe.sort_values(by='confidence', ascending=False).head(n=5)"
   ]
  },
  {
   "cell_type": "code",
   "execution_count": 269,
   "metadata": {
    "collapsed": false
   },
   "outputs": [
    {
     "data": {
      "text/html": [
       "<div>\n",
       "<table border=\"1\" class=\"dataframe\">\n",
       "  <thead>\n",
       "    <tr style=\"text-align: right;\">\n",
       "      <th></th>\n",
       "      <th>entity</th>\n",
       "      <th>type</th>\n",
       "      <th>confidence</th>\n",
       "    </tr>\n",
       "  </thead>\n",
       "  <tbody>\n",
       "    <tr>\n",
       "      <th>743</th>\n",
       "      <td>Marijuana</td>\n",
       "      <td>Medicine</td>\n",
       "      <td>1.000</td>\n",
       "    </tr>\n",
       "    <tr>\n",
       "      <th>2840</th>\n",
       "      <td>Marijuana</td>\n",
       "      <td>HerbSuplement</td>\n",
       "      <td>1.000</td>\n",
       "    </tr>\n",
       "    <tr>\n",
       "      <th>1834</th>\n",
       "      <td>Malaria</td>\n",
       "      <td>Disease</td>\n",
       "      <td>0.625</td>\n",
       "    </tr>\n",
       "    <tr>\n",
       "      <th>771</th>\n",
       "      <td>Moringa</td>\n",
       "      <td>Medicine</td>\n",
       "      <td>0.625</td>\n",
       "    </tr>\n",
       "    <tr>\n",
       "      <th>247</th>\n",
       "      <td>Carlina</td>\n",
       "      <td>Medicine</td>\n",
       "      <td>0.625</td>\n",
       "    </tr>\n",
       "  </tbody>\n",
       "</table>\n",
       "</div>"
      ],
      "text/plain": [
       "         entity           type  confidence\n",
       "743   Marijuana       Medicine       1.000\n",
       "2840  Marijuana  HerbSuplement       1.000\n",
       "1834    Malaria        Disease       0.625\n",
       "771     Moringa       Medicine       0.625\n",
       "247     Carlina       Medicine       0.625"
      ]
     },
     "execution_count": 269,
     "metadata": {},
     "output_type": "execute_result"
    }
   ],
   "source": [
    "e = compile_question(\"What is Marijuana?\")\n",
    "score_entity(dframe, e[0])"
   ]
  },
  {
   "cell_type": "code",
   "execution_count": 137,
   "metadata": {
    "collapsed": false
   },
   "outputs": [],
   "source": [
    "#def ngram_it(text, n=3):\n",
    "#    \"\"\" Returns a list of ngrams of sizes 1 to n\n",
    "#    \"\"\"\n",
    "#    ngrams = []\n",
    "#    tokens = nltk.word_tokenize(text)\n",
    "#    \n",
    "#    for i in range(1, n + 1):\n",
    "#        ngrams += list(map(\" \".join, nltk.ngrams(tokens, i)))\n",
    "#    \n",
    "#    return ngrams"
   ]
  },
  {
   "cell_type": "code",
   "execution_count": null,
   "metadata": {
    "collapsed": true
   },
   "outputs": [],
   "source": [
    "# Close the Neo4j Session\n",
    "#session.close()"
   ]
  }
 ],
 "metadata": {
  "kernelspec": {
   "display_name": "Python 3",
   "language": "python",
   "name": "python3"
  },
  "language_info": {
   "codemirror_mode": {
    "name": "ipython",
    "version": 3
   },
   "file_extension": ".py",
   "mimetype": "text/x-python",
   "name": "python",
   "nbconvert_exporter": "python",
   "pygments_lexer": "ipython3",
   "version": "3.6.0"
  }
 },
 "nbformat": 4,
 "nbformat_minor": 2
}
