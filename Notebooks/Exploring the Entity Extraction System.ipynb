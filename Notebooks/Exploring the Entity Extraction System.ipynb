{
 "cells": [
  {
   "cell_type": "markdown",
   "metadata": {},
   "source": [
    "# Exploring the Entity Extraction System"
   ]
  },
  {
   "cell_type": "code",
   "execution_count": 1,
   "metadata": {
    "collapsed": false
   },
   "outputs": [],
   "source": [
    "import pandas as pd\n",
    "import numpy as np\n",
    "import pickle\n",
    "import re\n",
    "import nltk\n",
    "import difflib\n",
    "from neo4j.v1 import GraphDatabase, basic_auth\n",
    "\n",
    "# Neo4j driver and client\n",
    "driver = GraphDatabase.driver(\"bolt://localhost:7687\", auth=basic_auth(\"neo4j\", \"naturalmed\"))\n",
    "session = driver.session()"
   ]
  },
  {
   "cell_type": "code",
   "execution_count": 22,
   "metadata": {
    "collapsed": false
   },
   "outputs": [],
   "source": [
    "ENTITY_LIST = [\n",
    "    'Medicine',\n",
    "    'Disease',\n",
    "    'Food',\n",
    "    'Context',\n",
    "    'HerbSuplement',\n",
    "    'LaboratoryTest',\n",
    "    'Pharmacokinetics',\n",
    "    'ScientificName',\n",
    "    'Synonymous'\n",
    "]\n",
    "\n",
    "QUESTIONS = [\n",
    "    'What is ([A-Z].*)\\?',\n",
    "    'What is the relation between ([A-Z].*) and ([A-Z].*)\\?'\n",
    "]"
   ]
  },
  {
   "cell_type": "code",
   "execution_count": 3,
   "metadata": {
    "collapsed": false
   },
   "outputs": [],
   "source": [
    "entities = []\n",
    "types = []\n",
    "\n",
    "for entity in ENTITY_LIST:\n",
    "    prop = 'name' if entity == 'Medicine' else 'id' \n",
    "    res = session.run(\"MATCH (n:%s) RETURN n.%s;\" % (entity, prop))\n",
    "    \n",
    "    for e in res:\n",
    "        entities.append(e.values()[0])\n",
    "        types.append(entity)\n",
    "\n",
    "dframe = pd.DataFrame({\n",
    "    'entity': pd.Series(entities),\n",
    "    'type': pd.Series(types)\n",
    "})\n",
    "\n",
    "with open(\"../Dumps/entities.pickle\", \"wb\") as fp:\n",
    "    pickle.dump(dframe, fp)"
   ]
  },
  {
   "cell_type": "code",
   "execution_count": 4,
   "metadata": {
    "collapsed": false
   },
   "outputs": [
    {
     "data": {
      "text/html": [
       "<div>\n",
       "<table border=\"1\" class=\"dataframe\">\n",
       "  <thead>\n",
       "    <tr style=\"text-align: right;\">\n",
       "      <th></th>\n",
       "      <th>entity</th>\n",
       "      <th>type</th>\n",
       "    </tr>\n",
       "  </thead>\n",
       "  <tbody>\n",
       "    <tr>\n",
       "      <th>0</th>\n",
       "      <td>Abscess Root</td>\n",
       "      <td>Medicine</td>\n",
       "    </tr>\n",
       "    <tr>\n",
       "      <th>1</th>\n",
       "      <td>Abuta</td>\n",
       "      <td>Medicine</td>\n",
       "    </tr>\n",
       "    <tr>\n",
       "      <th>2</th>\n",
       "      <td>Acacia</td>\n",
       "      <td>Medicine</td>\n",
       "    </tr>\n",
       "    <tr>\n",
       "      <th>3</th>\n",
       "      <td>Acacia Rigidula</td>\n",
       "      <td>Medicine</td>\n",
       "    </tr>\n",
       "    <tr>\n",
       "      <th>4</th>\n",
       "      <td>Acai</td>\n",
       "      <td>Medicine</td>\n",
       "    </tr>\n",
       "  </tbody>\n",
       "</table>\n",
       "</div>"
      ],
      "text/plain": [
       "            entity      type\n",
       "0     Abscess Root  Medicine\n",
       "1            Abuta  Medicine\n",
       "2           Acacia  Medicine\n",
       "3  Acacia Rigidula  Medicine\n",
       "4             Acai  Medicine"
      ]
     },
     "execution_count": 4,
     "metadata": {},
     "output_type": "execute_result"
    }
   ],
   "source": [
    "dframe.head()"
   ]
  },
  {
   "cell_type": "code",
   "execution_count": 5,
   "metadata": {
    "collapsed": false
   },
   "outputs": [
    {
     "data": {
      "text/plain": [
       "entity    24076\n",
       "type      24076\n",
       "dtype: int64"
      ]
     },
     "execution_count": 5,
     "metadata": {},
     "output_type": "execute_result"
    }
   ],
   "source": [
    "dframe.count()"
   ]
  },
  {
   "cell_type": "code",
   "execution_count": 6,
   "metadata": {
    "collapsed": true
   },
   "outputs": [],
   "source": [
    "def comp_str(arr, string):\n",
    "    \"\"\" Compare the matching from 0 to 1 between two strings\n",
    "    \"\"\"\n",
    "    sm = difflib.SequenceMatcher(None)\n",
    "    \n",
    "    for e in arr:\n",
    "        sm.set_seq1(str(e))\n",
    "        sm.set_seq2(string)\n",
    "        \n",
    "        yield sm.ratio()"
   ]
  },
  {
   "cell_type": "code",
   "execution_count": 7,
   "metadata": {
    "collapsed": true
   },
   "outputs": [],
   "source": [
    "def compile_question(string):\n",
    "    \"\"\" Compiles a question and returns a list of the entities matched on it.\n",
    "    \"\"\"\n",
    "    for question in QUESTIONS:\n",
    "        matching = re.match(question, string) \n",
    "        if matching:\n",
    "            return list(matching.groups())\n",
    "    return None"
   ]
  },
  {
   "cell_type": "code",
   "execution_count": 20,
   "metadata": {
    "collapsed": false
   },
   "outputs": [
    {
     "data": {
      "text/plain": [
       "['Marijuana']"
      ]
     },
     "execution_count": 20,
     "metadata": {},
     "output_type": "execute_result"
    }
   ],
   "source": [
    "compile_question(\"What is Marijuana?\")"
   ]
  },
  {
   "cell_type": "code",
   "execution_count": 23,
   "metadata": {
    "collapsed": false
   },
   "outputs": [
    {
     "data": {
      "text/plain": [
       "['Marijuana', 'Depression']"
      ]
     },
     "execution_count": 23,
     "metadata": {},
     "output_type": "execute_result"
    }
   ],
   "source": [
    "compile_question(\"What is the relation between Marijuana and Depression?\")"
   ]
  },
  {
   "cell_type": "code",
   "execution_count": 8,
   "metadata": {
    "collapsed": true
   },
   "outputs": [],
   "source": [
    "def score_entity(dframe, entity):\n",
    "    \"\"\" Scores the entity in relation to the entities table\n",
    "    \"\"\"\n",
    "    dframe['confidence'] = list(comp_str(dframe['entity'], entity.title()))\n",
    "    return dframe.sort_values(by='confidence', ascending=False).head(n=5)"
   ]
  },
  {
   "cell_type": "code",
   "execution_count": 44,
   "metadata": {
    "collapsed": false
   },
   "outputs": [],
   "source": [
    "def question(question):\n",
    "    entities = compile_question(question)\n",
    "    for entity in entities:\n",
    "        print(\"Entity: {}\\n\".format(entity))\n",
    "        print(score_entity(dframe, entity))\n",
    "        print(\"\\n\")"
   ]
  },
  {
   "cell_type": "markdown",
   "metadata": {},
   "source": [
    "## Examples"
   ]
  },
  {
   "cell_type": "code",
   "execution_count": 45,
   "metadata": {
    "collapsed": false
   },
   "outputs": [
    {
     "name": "stdout",
     "output_type": "stream",
     "text": [
      "Entity: Açai\n",
      "\n",
      "       entity        type  confidence\n",
      "4        Acai    Medicine    0.750000\n",
      "6230     Açaï  Synonymous    0.750000\n",
      "6238    Assai  Synonymous    0.666667\n",
      "13287   Alasi  Synonymous    0.666667\n",
      "10375  Arandi  Synonymous    0.600000\n",
      "\n",
      "\n"
     ]
    }
   ],
   "source": [
    "question(\"What is Açai?\")"
   ]
  },
  {
   "cell_type": "code",
   "execution_count": 46,
   "metadata": {
    "collapsed": false
   },
   "outputs": [
    {
     "name": "stdout",
     "output_type": "stream",
     "text": [
      "Entity: Blue Bells\n",
      "\n",
      "            entity        type  confidence\n",
      "6188    Blue Bells  Synonymous    1.000000\n",
      "18609    Blue Balm  Synonymous    0.736842\n",
      "20833   Blue Curls  Synonymous    0.700000\n",
      "14896     Hen Bell  Synonymous    0.666667\n",
      "12842  Blue Mallee  Synonymous    0.666667\n",
      "\n",
      "\n"
     ]
    }
   ],
   "source": [
    "question(\"What is Blue Bells?\")"
   ]
  },
  {
   "cell_type": "code",
   "execution_count": 47,
   "metadata": {
    "collapsed": false
   },
   "outputs": [
    {
     "name": "stdout",
     "output_type": "stream",
     "text": [
      "Entity: Marijuana\n",
      "\n",
      "          entity           type  confidence\n",
      "743    Marijuana       Medicine    1.000000\n",
      "2840   Marijuana  HerbSuplement    1.000000\n",
      "17494  Mariguana     Synonymous    0.888889\n",
      "17495  Marihuana     Synonymous    0.888889\n",
      "7330     Maranta     Synonymous    0.750000\n",
      "\n",
      "\n"
     ]
    }
   ],
   "source": [
    "question(\"What is Marijuana?\")"
   ]
  },
  {
   "cell_type": "code",
   "execution_count": 48,
   "metadata": {
    "collapsed": false
   },
   "outputs": [
    {
     "name": "stdout",
     "output_type": "stream",
     "text": [
      "Entity: Marijuana\n",
      "\n",
      "          entity           type  confidence\n",
      "743    Marijuana       Medicine    1.000000\n",
      "2840   Marijuana  HerbSuplement    1.000000\n",
      "17494  Mariguana     Synonymous    0.888889\n",
      "17495  Marihuana     Synonymous    0.888889\n",
      "7330     Maranta     Synonymous    0.750000\n",
      "\n",
      "\n",
      "Entity: Depression\n",
      "\n",
      "                    entity        type  confidence\n",
      "1232            Depression     Disease    1.000000\n",
      "1964     Mental Depression     Disease    0.740741\n",
      "23251              Cresson  Synonymous    0.705882\n",
      "1763   Atypical Depression     Disease    0.689655\n",
      "11344             Espresso  Synonymous    0.666667\n",
      "\n",
      "\n"
     ]
    }
   ],
   "source": [
    "question(\"What is the relation between Marijuana and Depression?\")"
   ]
  },
  {
   "cell_type": "code",
   "execution_count": 137,
   "metadata": {
    "collapsed": false
   },
   "outputs": [],
   "source": [
    "#def ngram_it(text, n=3):\n",
    "#    \"\"\" Returns a list of ngrams of sizes 1 to n\n",
    "#    \"\"\"\n",
    "#    ngrams = []\n",
    "#    tokens = nltk.word_tokenize(text)\n",
    "#    \n",
    "#    for i in range(1, n + 1):\n",
    "#        ngrams += list(map(\" \".join, nltk.ngrams(tokens, i)))\n",
    "#    \n",
    "#    return ngrams"
   ]
  },
  {
   "cell_type": "code",
   "execution_count": null,
   "metadata": {
    "collapsed": true
   },
   "outputs": [],
   "source": [
    "# Close the Neo4j Session\n",
    "#session.close()"
   ]
  }
 ],
 "metadata": {
  "kernelspec": {
   "display_name": "Python 3",
   "language": "python",
   "name": "python3"
  },
  "language_info": {
   "codemirror_mode": {
    "name": "ipython",
    "version": 3
   },
   "file_extension": ".py",
   "mimetype": "text/x-python",
   "name": "python",
   "nbconvert_exporter": "python",
   "pygments_lexer": "ipython3",
   "version": "3.6.0"
  }
 },
 "nbformat": 4,
 "nbformat_minor": 2
}
