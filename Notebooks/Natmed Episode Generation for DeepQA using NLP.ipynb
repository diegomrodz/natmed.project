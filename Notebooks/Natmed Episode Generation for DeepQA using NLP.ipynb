{
 "cells": [
  {
   "cell_type": "markdown",
   "metadata": {},
   "source": [
    "# Episode Generation for DeepQA using NLP"
   ]
  },
  {
   "cell_type": "code",
   "execution_count": 6,
   "metadata": {
    "collapsed": false
   },
   "outputs": [],
   "source": [
    "from keras.models import Sequential, Model\n",
    "from keras.layers.embeddings import Embedding\n",
    "from keras.layers import Input, Activation, Dense, Permute, Dropout, add, dot, concatenate\n",
    "from keras.layers import LSTM\n",
    "from keras.utils.data_utils import get_file\n",
    "from keras.preprocessing.sequence import pad_sequences\n",
    "from pymongo import MongoClient\n",
    "from functools import reduce\n",
    "import nltk\n",
    "import tarfile\n",
    "import numpy as np\n",
    "import re\n",
    "\n",
    "NATMED_CN = \"mongodb://localhost:27017\"\n",
    "NATMED_DB = \"natmed\"\n",
    "NATMED_COL = \"foods\"\n",
    "\n",
    "DEEPQA_DIR = \"../Dumps/natmed_dqa\"\n",
    "\n",
    "DIALOGUE_SIZE = 15\n",
    "\n",
    "EPISODE_TYPES = [\n",
    "    'SINGLE_FACT',\n",
    "    'TWO_FACT',\n",
    "    'THREE_FACT',\n",
    "    'TWO_ARGS',\n",
    "    'THREE_ARGS',\n",
    "    'YES_NO',\n",
    "    'LISTS',\n",
    "    'NEGATION',\n",
    "    'INDEFINITE',\n",
    "    'BASIC_COFERENCE',\n",
    "    'CONJUNCTION',\n",
    "    'COMPOUND',\n",
    "    'BASIC_DEDUCTION',\n",
    "    'BASIC_INDUCTION',\n",
    "    'PATH_FIDING',\n",
    "    'AGENT_MOTIVATION']"
   ]
  },
  {
   "cell_type": "code",
   "execution_count": 7,
   "metadata": {
    "collapsed": true
   },
   "outputs": [],
   "source": [
    "client = MongoClient(NATMED_CN)\n",
    "db = client[NATMED_DB][NATMED_COL]"
   ]
  },
  {
   "cell_type": "code",
   "execution_count": 8,
   "metadata": {
    "collapsed": false
   },
   "outputs": [],
   "source": [
    "class Episode(object):\n",
    "    def __init__(self, _type):\n",
    "        self.type = _type\n",
    "        self.lines = []\n",
    "        self.counter = 0\n",
    "    \n",
    "    def fact(self, fact):\n",
    "        self.counter += 1\n",
    "        self.lines.append((self.counter, fact))\n",
    "        return self.counter\n",
    "    \n",
    "    def dialoge(self, question, answer, fact):\n",
    "        self.counter += 1\n",
    "        self.lines.append((self.counter, question, answer, fact))\n",
    "        return self.counter\n",
    "    \n",
    "    def __str__(self):\n",
    "        lines = [\"\\t\".join(map(str,line)) for line in self.lines]\n",
    "        return \"\\n\".join(lines)\n",
    "\n",
    "class Narrative(object):\n",
    "    def __init__(self, name):\n",
    "        self.name = name\n",
    "        self.episodes = {}\n",
    "        \n",
    "        for t in EPISODE_TYPES:\n",
    "            self.episodes[t] = []\n",
    "    \n",
    "    def episode(self, episode):\n",
    "        self.episodes[episode.type].append(episode)\n",
    "    \n",
    "    def dump(self):\n",
    "        print(\"Narrative\", self.name)\n",
    "        for k in self.episodes.keys():\n",
    "            if len(self.episodes[k]) > 0:\n",
    "                print(\"Episode\", k)\n",
    "                [print(e) for e in self.episodes[k]]"
   ]
  },
  {
   "cell_type": "code",
   "execution_count": 9,
   "metadata": {
    "collapsed": false
   },
   "outputs": [
    {
     "name": "stdout",
     "output_type": "stream",
     "text": [
      "Narrative teste\n",
      "Episode YES_NO\n",
      "1\tTeste is cool!\n",
      "2\tIs Teste cool?\tyes\t1\n"
     ]
    }
   ],
   "source": [
    "nr = Narrative(\"teste\")\n",
    "\n",
    "ep = Episode(\"YES_NO\")\n",
    "\n",
    "fid = ep.fact(\"Teste is cool!\")\n",
    "ep.dialoge(\"Is Teste cool?\", \"yes\", fid)\n",
    "\n",
    "nr.episode(ep)\n",
    "\n",
    "nr.dump()"
   ]
  },
  {
   "cell_type": "code",
   "execution_count": 10,
   "metadata": {
    "collapsed": true
   },
   "outputs": [],
   "source": [
    "def family_names(limit):\n",
    "    return db.aggregate([\n",
    "        { \"$project\": { \"name\": 1, \"familyName\": 1 } },\n",
    "        { \"$limit\": limit }\n",
    "    ])\n",
    "\n",
    "def family_name_narrative():\n",
    "    nr = Narrative(\"family_name\")\n",
    "    single = Episode(\"SINGLE_FACT\")\n",
    "    yes_no = Episode(\"YES_NO\")\n",
    "    \n",
    "    for doc in family_names(15):\n",
    "        if doc.get('familyName'):\n",
    "            f_name = \" \".join(doc.get('familyName').split(\"/\"))\n",
    "            \n",
    "            fid = single.fact(\"{} is the family name of {}.\".format(f_name, doc['name']))\n",
    "            single.dialoge(\"What is the family name of {}?\".format(doc['name']), f_name, fid)\n",
    "            \n",
    "            \n",
    "    nr.episode(single)\n",
    "    \n",
    "    return nr"
   ]
  },
  {
   "cell_type": "code",
   "execution_count": 11,
   "metadata": {
    "collapsed": false
   },
   "outputs": [
    {
     "name": "stdout",
     "output_type": "stream",
     "text": [
      "Narrative family_name\n",
      "Episode SINGLE_FACT\n",
      "1\tPolemoniaceae is the family name of Abscess Root.\n",
      "2\tWhat is the family name of Abscess Root?\tPolemoniaceae\t1\n",
      "3\tMenispermaceae is the family name of Abuta.\n",
      "4\tWhat is the family name of Abuta?\tMenispermaceae\t3\n",
      "5\tFabaceae Leguminosae is the family name of Acacia.\n",
      "6\tWhat is the family name of Acacia?\tFabaceae Leguminosae\t5\n",
      "7\tFabaceae is the family name of Acacia rigidula.\n",
      "8\tWhat is the family name of Acacia rigidula?\tFabaceae\t7\n",
      "9\tArecaceae Palmae is the family name of Acai.\n",
      "10\tWhat is the family name of Acai?\tArecaceae Palmae\t9\n",
      "11\tMalpighiaceae is the family name of Acerola.\n",
      "12\tWhat is the family name of Acerola?\tMalpighiaceae\t11\n",
      "13\tSapindaceae is the family name of Ackee.\n",
      "14\tWhat is the family name of Ackee?\tSapindaceae\t13\n",
      "15\tRanunculaceae is the family name of Aconite.\n",
      "16\tWhat is the family name of Aconite?\tRanunculaceae\t15\n",
      "17\tCyperaceae is the family name of Adrue.\n",
      "18\tWhat is the family name of Adrue?\tCyperaceae\t17\n",
      "19\tHypoxidaceae or Liliaceae is the family name of African Wild Potato.\n",
      "20\tWhat is the family name of African Wild Potato?\tHypoxidaceae or Liliaceae\t19\n",
      "21\tAmanitaceae is the family name of Aga.\n",
      "22\tWhat is the family name of Aga?\tAmanitaceae\t21\n"
     ]
    }
   ],
   "source": [
    "nr = family_name_narrative()\n",
    "nr.dump()"
   ]
  },
  {
   "cell_type": "code",
   "execution_count": 12,
   "metadata": {
    "collapsed": false
   },
   "outputs": [],
   "source": [
    "def tokenize(sent):\n",
    "    '''Return the tokens of a sentence including punctuation.\n",
    "    >>> tokenize('Bob dropped the apple. Where is the apple?')\n",
    "    ['Bob', 'dropped', 'the', 'apple', '.', 'Where', 'is', 'the', 'apple', '?']\n",
    "    '''\n",
    "    return [x.strip() for x in re.split('(\\W+)?', sent) if x.strip()]"
   ]
  },
  {
   "cell_type": "code",
   "execution_count": 13,
   "metadata": {
    "collapsed": false
   },
   "outputs": [
    {
     "name": "stderr",
     "output_type": "stream",
     "text": [
      "/home/diego/anaconda3/lib/python3.6/re.py:212: FutureWarning: split() requires a non-empty pattern match.\n",
      "  return _compile(pattern, flags).split(string, maxsplit)\n"
     ]
    },
    {
     "data": {
      "text/plain": [
       "['Polemoniaceae', 'is', 'the', 'family', 'name', 'of', 'Abscess', 'Root']"
      ]
     },
     "execution_count": 13,
     "metadata": {},
     "output_type": "execute_result"
    }
   ],
   "source": [
    "tokenize(\"Polemoniaceae is the family name of Abscess Root\")"
   ]
  },
  {
   "cell_type": "code",
   "execution_count": 37,
   "metadata": {
    "collapsed": true
   },
   "outputs": [],
   "source": [
    "def parse_stories(lines, only_supporting=False):\n",
    "    '''Parse stories provided in the bAbi tasks format\n",
    "    If only_supporting is true, only the sentences\n",
    "    that support the answer are kept.\n",
    "    '''\n",
    "    data = []\n",
    "    story = []\n",
    "    for line in lines:\n",
    "        #line = line.decode('utf-8').strip()\n",
    "        nid, line = line.split('\\t', 1)\n",
    "        nid = int(nid)\n",
    "        if nid == 1:\n",
    "            story = []\n",
    "        if '\\t' in line:\n",
    "            q, a, supporting = line.split('\\t')\n",
    "            q = tokenize(q)\n",
    "            substory = None\n",
    "            if only_supporting:\n",
    "                # Only select the related substory\n",
    "                supporting = map(int, supporting.split())\n",
    "                substory = [story[i - 1] for i in supporting]\n",
    "            else:\n",
    "                # Provide all the substories\n",
    "                substory = [x for x in story if x]\n",
    "            data.append((substory, q, a))\n",
    "            story.append('')\n",
    "        else:\n",
    "            sent = tokenize(line)\n",
    "            story.append(sent)\n",
    "    return data"
   ]
  },
  {
   "cell_type": "code",
   "execution_count": 22,
   "metadata": {
    "collapsed": true
   },
   "outputs": [],
   "source": [
    "stories = \"\"\"1\tPolemoniaceae is the family name of Abscess Root.\n",
    "2\tWhat is the family name of Abscess Root?\tPolemoniaceae\t1\n",
    "3\tMenispermaceae is the family name of Abuta.\n",
    "4\tWhat is the family name of Abuta?\tMenispermaceae\t3\n",
    "5\tFabaceae Leguminosae is the family name of Acacia.\n",
    "6\tWhat is the family name of Acacia?\tFabaceae Leguminosae\t5\n",
    "7\tFabaceae is the family name of Acacia rigidula.\n",
    "8\tWhat is the family name of Acacia rigidula?\tFabaceae\t7\n",
    "9\tArecaceae Palmae is the family name of Acai.\n",
    "10\tWhat is the family name of Acai?\tArecaceae Palmae\t9\n",
    "11\tMalpighiaceae is the family name of Acerola.\n",
    "12\tWhat is the family name of Acerola?\tMalpighiaceae\t11\n",
    "13\tSapindaceae is the family name of Ackee.\n",
    "14\tWhat is the family name of Ackee?\tSapindaceae\t13\n",
    "15\tRanunculaceae is the family name of Aconite.\n",
    "16\tWhat is the family name of Aconite?\tRanunculaceae\t15\n",
    "17\tCyperaceae is the family name of Adrue.\n",
    "18\tWhat is the family name of Adrue?\tCyperaceae\t17\n",
    "19\tHypoxidaceae or Liliaceae is the family name of African Wild Potato.\n",
    "20\tWhat is the family name of African Wild Potato?\tHypoxidaceae or Liliaceae\t19\n",
    "21\tAmanitaceae is the family name of Aga.\n",
    "22\tWhat is the family name of Aga?\tAmanitaceae\t21\"\"\""
   ]
  },
  {
   "cell_type": "code",
   "execution_count": 39,
   "metadata": {
    "collapsed": false
   },
   "outputs": [
    {
     "name": "stderr",
     "output_type": "stream",
     "text": [
      "/home/diego/anaconda3/lib/python3.6/re.py:212: FutureWarning: split() requires a non-empty pattern match.\n",
      "  return _compile(pattern, flags).split(string, maxsplit)\n"
     ]
    }
   ],
   "source": [
    "data_stories = parse_stories(stories.split(\"\\n\"), only_supporting=True)"
   ]
  },
  {
   "cell_type": "code",
   "execution_count": 40,
   "metadata": {
    "collapsed": false
   },
   "outputs": [
    {
     "data": {
      "text/plain": [
       "([['Polemoniaceae',\n",
       "   'is',\n",
       "   'the',\n",
       "   'family',\n",
       "   'name',\n",
       "   'of',\n",
       "   'Abscess',\n",
       "   'Root',\n",
       "   '.']],\n",
       " ['What', 'is', 'the', 'family', 'name', 'of', 'Abscess', 'Root', '?'],\n",
       " 'Polemoniaceae')"
      ]
     },
     "execution_count": 40,
     "metadata": {},
     "output_type": "execute_result"
    }
   ],
   "source": [
    "data_stories[0]"
   ]
  },
  {
   "cell_type": "code",
   "execution_count": 41,
   "metadata": {
    "collapsed": false
   },
   "outputs": [],
   "source": [
    "def get_stories(stories, only_supporting=False, max_length=None):\n",
    "    '''Given a file name, read the file,\n",
    "    retrieve the stories,\n",
    "    and then convert the sentences into a single story.\n",
    "    If max_length is supplied,\n",
    "    any stories longer than max_length tokens will be discarded.\n",
    "    '''\n",
    "    data = parse_stories(stories.split(\"\\n\"), only_supporting=only_supporting)\n",
    "    flatten = lambda data: reduce(lambda x, y: x + y, data)\n",
    "    data = [(flatten(story), q, answer) for story, q, answer in data if not max_length or len(flatten(story)) < max_length]\n",
    "    return data"
   ]
  },
  {
   "cell_type": "code",
   "execution_count": 43,
   "metadata": {
    "collapsed": false
   },
   "outputs": [
    {
     "name": "stderr",
     "output_type": "stream",
     "text": [
      "/home/diego/anaconda3/lib/python3.6/re.py:212: FutureWarning: split() requires a non-empty pattern match.\n",
      "  return _compile(pattern, flags).split(string, maxsplit)\n"
     ]
    }
   ],
   "source": [
    "data_stories = get_stories(stories)"
   ]
  },
  {
   "cell_type": "code",
   "execution_count": 44,
   "metadata": {
    "collapsed": true
   },
   "outputs": [],
   "source": [
    "def vectorize_stories(data, word_idx, story_maxlen, query_maxlen):\n",
    "    X = []\n",
    "    Xq = []\n",
    "    Y = []\n",
    "    for story, query, answer in data:\n",
    "        x = [word_idx[w] for w in story]\n",
    "        xq = [word_idx[w] for w in query]\n",
    "        # let's not forget that index 0 is reserved\n",
    "        y = np.zeros(len(word_idx) + 1)\n",
    "        y[word_idx[answer]] = 1\n",
    "        X.append(x)\n",
    "        Xq.append(xq)\n",
    "        Y.append(y)\n",
    "    return (pad_sequences(X, maxlen=story_maxlen),\n",
    "            pad_sequences(Xq, maxlen=query_maxlen), np.array(Y))"
   ]
  },
  {
   "cell_type": "code",
   "execution_count": null,
   "metadata": {
    "collapsed": true
   },
   "outputs": [],
   "source": []
  }
 ],
 "metadata": {
  "kernelspec": {
   "display_name": "Python 3",
   "language": "python",
   "name": "python3"
  },
  "language_info": {
   "codemirror_mode": {
    "name": "ipython",
    "version": 3
   },
   "file_extension": ".py",
   "mimetype": "text/x-python",
   "name": "python",
   "nbconvert_exporter": "python",
   "pygments_lexer": "ipython3",
   "version": "3.6.0"
  }
 },
 "nbformat": 4,
 "nbformat_minor": 2
}
